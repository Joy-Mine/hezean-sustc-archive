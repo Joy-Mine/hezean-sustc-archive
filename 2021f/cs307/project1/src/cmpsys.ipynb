{
 "cells": [
  {
   "cell_type": "code",
   "execution_count": 2,
   "outputs": [],
   "source": [
    "import sys\n",
    "import time\n",
    "\n",
    "import pandas as pd\n",
    "\n",
    "import yaml\n",
    "from IPython.core.interactiveshell import InteractiveShell\n",
    "\n",
    "InteractiveShell.ast_node_interactivity = \"all\""
   ],
   "metadata": {
    "collapsed": false,
    "pycharm": {
     "name": "#%%\n"
    }
   }
  },
  {
   "cell_type": "code",
   "execution_count": 4,
   "outputs": [],
   "source": [
    "# with open('user.yml', 'r', encoding='utf-8') as cfg:\n",
    "#     conf = yaml.safe_load(cfg)\n",
    "# try:\n",
    "#     conn = psql.connect(host=conf['host'], port=conf['port'],\n",
    "#                         user=conf['user'], password=conf['pwd'],\n",
    "#                         database=conf['db'])\n",
    "#     cur = conn.cursor()\n",
    "#     conn.autocommit = False\n",
    "# except Exception as e:\n",
    "#     print(e)\n",
    "#     sys.exit(1)\n",
    "\n",
    "\n",
    "def timer(func):\n",
    "    def tm(*args, **kwargs):\n",
    "        t = time.perf_counter()\n",
    "        result = func(*args, **kwargs)\n",
    "        print(f'{func.__name__} cost {time.perf_counter() - t:.6f} sec')\n",
    "        return result\n",
    "\n",
    "    return tm"
   ],
   "metadata": {
    "collapsed": false,
    "pycharm": {
     "name": "#%%\n"
    }
   }
  },
  {
   "cell_type": "code",
   "source": [
    "@timer\n",
    "def db_query():\n",
    "    for _ in range(10):\n",
    "        cur.execute('''SELECT DISTINCT cid\n",
    "                       FROM project1.course\n",
    "                       WHERE credit > 2;''')\n",
    "    print(cur.fetchall())\n",
    "    # print(len(cur.fetchall()))\n",
    "\n",
    "\n",
    "db_query()"
   ],
   "metadata": {
    "collapsed": false,
    "pycharm": {
     "name": "#%%\n"
    }
   },
   "execution_count": 135,
   "outputs": [
    {
     "name": "stdout",
     "output_type": "stream",
     "text": [
      "[('CS201',), ('BMEB322',), ('FMA302',), ('EE204',), ('ESS102',), ('MAT7003',), ('CLE021',), ('FIN305',), ('CS205',), ('PHY210',), ('MA103A',), ('MA102B',), ('BIO301',), ('CS314',), ('MA224',), ('ESS205',), ('MSE330-16',), ('EE316',), ('CS316',), ('MAE204',), ('BIO102A',), ('OCE301',), ('EE208',), ('BIO305',), ('MA304',), ('ME434',), ('FET306',), ('CS401',), ('PHY105C',), ('CH302',), ('PHY330',), ('MA101B',), ('BIO203',), ('ESS310',), ('EE332',), ('ESE332',), ('ESS312',), ('OCE306',), ('ESE307',), ('ME301',), ('BMEB312',), ('EE304',), ('MA210',), ('MA204',), ('FMA301',), ('PHY439',), ('ME302',), ('MA102a',), ('MA403',), ('ME102',), ('FIN204',), ('MA406',), ('CS102B',), ('FIN201',), ('CH308-14',), ('CS307',), ('ESE318',), ('MA212',), ('FIN302',), ('BIO403-16',), ('BIO340',), ('MA103B',), ('EE206',), ('EE310',), ('ESE331',), ('ESE330',), ('MA322',), ('MSE316',), ('ESE304',), ('PHY205-15',), ('CS202',), ('PHY203-15',), ('PHY208',), ('MA203a',), ('EE328',), ('PHY204',), ('MA201a',), ('FIN490',), ('CH403',), ('MAE407',), ('MED305',), ('EE306',), ('MAE308',), ('CS207',), ('CS203',), ('ME405',), ('BIO304',), ('FIN206',), ('MA202',), ('EE202-17',), ('FET303',), ('MSE403',), ('CS312',), ('CS304',), ('FET302',), ('CLE023',), ('EE320-15',), ('FET204',), ('ESE316',), ('ME306',), ('CH101A',), ('CS406',), ('MSE313',), ('CS302',), ('MAT7012',), ('EE201-17',), ('MED307',), ('BIO331',), ('ESS202',), ('MSE306',), ('MA104b',), ('CH314',), ('CH101B',), ('FET490',), ('MAT8010',), ('MAE304',), ('EE326',), ('BIO320',), ('FET206',), ('MSE201',), ('ME304',), ('MAT7041',), ('PHY324',), ('FMA307',), ('FIN208',), ('MA213-16',), ('ME307',), ('BIO102B',), ('MA417',), ('ESE216',), ('OCE404',), ('OCE304',), ('PHY328',), ('IPE104',), ('PHY103B',), ('MSE310',), ('MSE308',), ('BIO310',), ('CH212-16',), ('FIN210',), ('MAE310',), ('PHY431',), ('MA333',), ('CS102A',), ('BIO202',), ('MA327',), ('ME103',), ('CH206',), ('ESE201',), ('EE334',), ('MSE304',), ('MSE320',), ('BMEB314',), ('ME303',), ('PHY442',), ('MSE208',), ('EE205',), ('EE308',), ('MA314',), ('MA206',), ('EE203',), ('CLE022',), ('MA302',), ('MAE314',), ('CH214',), ('CS209A',), ('ESE329',), ('EE210',), ('OCE201',), ('PHY332-15',), ('CH215',), ('EE423-14',), ('MAE202',), ('PHY326-15',), ('PHY207-15',), ('FIN203',), ('OCE308',), ('ESE302',), ('MSE328',), ('MAE403',), ('FIN301',), ('MA214',), ('CS208',), ('BIO306',), ('PHY105A',), ('BIO302',), ('CS306',), ('MA110',), ('OCE202',), ('MA208',), ('OCE305',), ('PHY206-15',), ('MA325',), ('OCE307',), ('ESS201',), ('ME310',), ('ESE206',), ('MAT7045',), ('MA201b',), ('MSE202',), ('PHY105B',), ('FIN308',), ('MAE302-16',)]\n",
      "db_query cost 0.075513 sec\n"
     ]
    }
   ]
  },
  {
   "cell_type": "code",
   "execution_count": 5,
   "outputs": [
    {
     "name": "stdout",
     "output_type": "stream",
     "text": [
      "203\n",
      "fs_query cost 0.525360 sec\n"
     ]
    }
   ],
   "source": [
    "\n",
    "cif = pd.read_json('data/course_info.json')\n",
    "\n",
    "\n",
    "@timer\n",
    "def fs_query() ->set:\n",
    "    result_set = set()\n",
    "    for _ in range(10):\n",
    "        result_set.clear()\n",
    "        for index, c in cif.iterrows():\n",
    "            if c['courseCredit'] > 2:\n",
    "                result_set.add(c['courseId'])\n",
    "    return result_set\n",
    "\n",
    "\n",
    "fs_query()"
   ],
   "metadata": {
    "collapsed": false,
    "pycharm": {
     "name": "#%%\n"
    }
   }
  },
  {
   "cell_type": "code",
   "execution_count": 100,
   "outputs": [
    {
     "name": "stdout",
     "output_type": "stream",
     "text": [
      "ins cost 3.898052 sec\n"
     ]
    }
   ],
   "source": [
    "conn.autocommit = True\n",
    "\n",
    "\n",
    "@timer\n",
    "def ins():\n",
    "    for i in range(1001, 1500):\n",
    "        try:\n",
    "            cur.execute(f'INSERT INTO public.demo4 VALUES ({i},{i + 1});')\n",
    "        except:\n",
    "            pass\n",
    "\n",
    "ins()"
   ],
   "metadata": {
    "collapsed": false,
    "pycharm": {
     "name": "#%%\n"
    }
   }
  }
 ],
 "metadata": {
  "kernelspec": {
   "display_name": "Python 3",
   "language": "python",
   "name": "python3"
  },
  "language_info": {
   "codemirror_mode": {
    "name": "ipython",
    "version": 2
   },
   "file_extension": ".py",
   "mimetype": "text/x-python",
   "name": "python",
   "nbconvert_exporter": "python",
   "pygments_lexer": "ipython2",
   "version": "2.7.6"
  }
 },
 "nbformat": 4,
 "nbformat_minor": 0
}