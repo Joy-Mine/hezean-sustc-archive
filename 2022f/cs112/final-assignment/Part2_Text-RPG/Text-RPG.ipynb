{
 "cells": [
  {
   "cell_type": "markdown",
   "metadata": {
    "collapsed": true
   },
   "source": [
    "# Assignment Part 2: Text-based RPG\n",
    "\n",
    "In this assignment, you will review object-oriented programming (OOP) principles by creating your own text-based adventure game in Python. \n",
    "\n",
    "We'll be diving into object-oriented programming (OOP), a model of programming that allows you to think of data in terms of \"objects\" with their own characteristics and actions, just like objects in real life! This is very powerful and allows you to create objects that are specific to your program.\n",
    "\n",
    "In the following homework it will be covering the:\n",
    "\n",
    "1. Hero Class (with its Getters and Setters)\n",
    "2. Enemy Class (with its Getters and Setters)\n",
    "3. Battle function\n",
    "4. Level up function and fight against BOSS.\n"
   ]
  },
  {
   "cell_type": "markdown",
   "metadata": {
    "collapsed": false
   },
   "source": [
    "## Task 1: Be your Hero!\n",
    "There are 7 different attributes for the Hero class, which would be the hero:\n",
    "* Health = Hhealth\n",
    "* Attack = Hattack\n",
    "* Luck = Hluck\n",
    "* Ranged = Hranged\n",
    "* Defense = Hdefence\n",
    "* Magic = Hmagic\n",
    "* Name = Hname*\n",
    "\n",
    "### Setters and Getters\n",
    "We’re going to use these attributes for the setters and getters which are ways to call the attributes of the Hero and edit its attributes. For example if the Hero gets attacked, we can call the attribute “Hhealth” and reduce its health or if the Hero level up, then we can increase the attribute “Hhealth”.\n",
    "\n",
    "We use getters & setters to add validation logic around getting and setting a value. The way we create a Getter in Python, is like this:\n",
    "\n",
    "```python\n",
    "def getHealth(self):\n",
    "    return self.health\n",
    "```\n",
    "\n",
    "Is like any other method for a class, and we’re calling the function “getHealth”, because we’re going to use it for later in the game whenever we want to call the function to edit the health of the Hero.\n",
    "\n",
    "The way we create a Setter in Python, is like this:\n",
    "\n",
    "```python\n",
    "def setHealth(self, newHealth):\n",
    "    self.health = newHealth\n",
    "```"
   ]
  },
  {
   "cell_type": "code",
   "execution_count": null,
   "metadata": {
    "collapsed": false
   },
   "outputs": [],
   "source": [
    "class Hero:\n",
    "\n",
    "    def __init__(self, health, attack, luck, ranged, defence, magic, name):\n",
    "        self._health = health\n",
    "        self._attack = attack\n",
    "        self._luck = luck\n",
    "        self._ranged = ranged\n",
    "        self._defence = defence\n",
    "        self._magic = magic\n",
    "        self._name = name\n",
    "\n",
    "    @property\n",
    "    def health(self):\n",
    "        return self._health\n",
    "\n",
    "    @health.setter\n",
    "    def health(self, value):\n",
    "        self._health = value\n",
    "\n",
    "    @property\n",
    "    def attack(self):\n",
    "        return self._attack\n",
    "\n",
    "    @attack.setter\n",
    "    def attack(self, value):\n",
    "        self._attack = value\n",
    "\n",
    "    @property\n",
    "    def luck(self):\n",
    "        return self._luck\n",
    "\n",
    "    @luck.setter\n",
    "    def luck(self, value):\n",
    "        self._luck = value\n",
    "\n",
    "    @property\n",
    "    def ranged(self):\n",
    "        return self._ranged\n",
    "\n",
    "    @ranged.setter\n",
    "    def ranged(self, value):\n",
    "        self._ranged = value\n",
    "\n",
    "    @property\n",
    "    def defence(self):\n",
    "        return self._defence\n",
    "\n",
    "    @defence.setter\n",
    "    def defence(self, value):\n",
    "        self._defence = value\n",
    "\n",
    "    @property\n",
    "    def magic(self):\n",
    "        return self._magic\n",
    "\n",
    "    @magic.setter\n",
    "    def magic(self, value):\n",
    "        self._magic = value\n",
    "\n",
    "    @property\n",
    "    def name(self):\n",
    "        return self._name\n",
    "\n",
    "    @property\n",
    "    def is_dead(self):\n",
    "        return self._health < 1\n",
    "\n",
    "    # THE GETTER/SETTER IMPLEMENTATIONS ARE REALLY BAD PRACTICES\n",
    "    # IN PYTHON, WE USE PROPERTIES INSTEAD!!"
   ]
  },
  {
   "cell_type": "code",
   "execution_count": null,
   "metadata": {},
   "outputs": [],
   "source": [
    "import math\n",
    "import random\n",
    "import sys\n",
    "import time\n",
    "from dataclasses import dataclass\n",
    "from time import sleep\n",
    "\n",
    "from IPython.display import clear_output\n",
    "\n",
    "\n",
    "def clear_screen():\n",
    "    sleep(2)\n",
    "    clear_output(True)\n",
    "\n",
    "\n",
    "def typing(message):\n",
    "    if 'SKIP_ANIM' in globals():\n",
    "        sys.stdout.write(message)\n",
    "    else:\n",
    "        for word in message:\n",
    "            time.sleep(random.choice([0.3, 0.11, 0.08, 0.07, 0.07, 0.07, 0.06, 0.06, 0.05, 0.01]))\n",
    "            sys.stdout.write(word)\n",
    "            sys.stdout.flush()\n",
    "    sys.stdout.write('\\n')\n",
    "    sys.stdout.flush()\n",
    "    time.sleep(.1)\n",
    "\n",
    "\n",
    "@dataclass\n",
    "class HeroProps:\n",
    "    attack: float\n",
    "    defence: float\n",
    "    luck: float\n",
    "    ranged: float\n",
    "    magic: float\n",
    "    name: str\n",
    "\n",
    "\n",
    "def create_class():\n",
    "    typing('Type \"1\" for first option, and \"2\" for the second option')\n",
    "    a = int(input(typing(\"Are you more strategic(1) or more of a warrior(2)?: \")))\n",
    "    while a not in [1, 2]:\n",
    "        typing(f\"{a} is not either '1' or '2'... invalid option\\n\")\n",
    "        m1 = typing(\"Are you more strategic(1) or more of a warrior(2)?: \\n\")\n",
    "        a = int(input(m1))\n",
    "\n",
    "    if a == 1:\n",
    "        hero_attack = 5\n",
    "        hero_defence = 7\n",
    "    elif a == 2:\n",
    "        hero_attack = 10\n",
    "        hero_defence = 15\n",
    "\n",
    "    # Determining the hero's luck!\n",
    "    typing(\"Let's see how much luck you have\")\n",
    "    b = input(typing(\"Press enter to roll a dice...\"))\n",
    "    typing('Rolling dice...')\n",
    "    hero_luck = random.randint(3, 10)\n",
    "    typing(f\"Your hero has {hero_luck} points out of 10\")\n",
    "\n",
    "    typing(\"Interesting...\")\n",
    "    c = int(input(typing(\"Are you more of a bow and arrow(1) or a magic user?(2): \")))\n",
    "    while c not in [1, 2]:\n",
    "        typing(f\"{c} is not either '1' or '2'... invalid option\")\n",
    "        c = int(input(typing(\"Are you more of a bow and arrow(1) or a magic user(2)?: \")))\n",
    "\n",
    "    if c == 1:\n",
    "        typing(\"Nice choice. Arrows are best\")\n",
    "        hero_ranged = 15\n",
    "        hero_magic = 5\n",
    "    elif c == 2:\n",
    "        typing(\"Nice choice. Magic is best\")\n",
    "        hero_ranged = 5\n",
    "        hero_magic = 15\n",
    "\n",
    "    time.sleep(1)\n",
    "    hero_name = input(typing(\"Tell me your name, and please don't give me a boring one: \"))\n",
    "    typing(f\"You have created your character, {hero_name}...\")\n",
    "    time.sleep(5)\n",
    "    clear_screen()\n",
    "    print(\"Here's your character:\", hero_name)\n",
    "    print(\"Hero Attack:\", hero_attack)  # noqa\n",
    "    print(\"Hero Luck:\", hero_luck)\n",
    "    print(\"Hero Ranged:\", hero_ranged)  # noqa\n",
    "    print(\"Hero Defence:\", hero_defence)  # noqa\n",
    "    print(\"Hero Magic:\", hero_magic)  # noqa\n",
    "    return HeroProps(\n",
    "        name=hero_name,\n",
    "        attack=hero_attack,\n",
    "        luck=hero_luck,\n",
    "        ranged=hero_ranged,\n",
    "        defence=hero_defence,\n",
    "        magic=hero_magic,\n",
    "    )"
   ]
  },
  {
   "cell_type": "markdown",
   "metadata": {},
   "source": [
    "Then we try to generate our hero."
   ]
  },
  {
   "cell_type": "code",
   "execution_count": null,
   "metadata": {},
   "outputs": [],
   "source": [
    "SKIP_ANIM = True\n",
    "\n",
    "# if 'SKIP_ANIM' in globals():\n",
    "#     del SKIP_ANIM\n",
    "\n",
    "class_data = create_class()\n",
    "gen_character = Hero(health=30, **vars(class_data))"
   ]
  },
  {
   "cell_type": "markdown",
   "metadata": {},
   "source": [
    "## Task 2 Enemy Class\n",
    "Similar to the Hero Class, in the Enemy Class we’re going to use setters and getters, but we’re going to create a subclass: “The Boss”\n",
    "\n",
    "The way we’re going to do this is by simply inheriting the enemy class as the parent class and we’re going to use the boss class as the child class. You can do it by doing the following:\n",
    "\n",
    "\n"
   ]
  },
  {
   "cell_type": "code",
   "execution_count": null,
   "metadata": {},
   "outputs": [],
   "source": [
    "class Enemy:\n",
    "\n",
    "    def __init__(self, health, attack, special, chance, name, **_):\n",
    "        self._health = health\n",
    "        self._attack = attack\n",
    "        self._special = special\n",
    "        self._chance = chance\n",
    "        self._name = name\n",
    "\n",
    "    @property\n",
    "    def health(self):\n",
    "        return self._health\n",
    "\n",
    "    @health.setter\n",
    "    def health(self, value):\n",
    "        self._health = value\n",
    "\n",
    "    @property\n",
    "    def attack(self):\n",
    "        return self._attack\n",
    "\n",
    "    @attack.setter\n",
    "    def attack(self, value):\n",
    "        self._attack = value\n",
    "\n",
    "    @property\n",
    "    def special(self):\n",
    "        return self._special\n",
    "\n",
    "    @special.setter\n",
    "    def special(self, value):\n",
    "        self._special = value\n",
    "\n",
    "    @property\n",
    "    def chance(self):\n",
    "        return self._chance\n",
    "\n",
    "    @chance.setter\n",
    "    def chance(self, value):\n",
    "        self._chance = value\n",
    "\n",
    "    @property\n",
    "    def name(self):\n",
    "        return self._name\n",
    "\n",
    "    @property\n",
    "    def is_dead(self):\n",
    "        return self._health < 1\n",
    "\n",
    "    def __str__(self):\n",
    "        return f'Enemy Name: {self._name}. \\nHealth: {self._health}. \\nAttack: {self._attack}.'\n",
    "\n",
    "    def __repr__(self):\n",
    "        return str(self)"
   ]
  },
  {
   "cell_type": "code",
   "execution_count": null,
   "metadata": {},
   "outputs": [],
   "source": [
    "class Boss(Enemy):\n",
    "\n",
    "    def __init__(self, health, attack, special, chance, name, super_move, **_):\n",
    "        super().__init__(health, attack, special, chance, name)\n",
    "        self._super_move = super_move\n",
    "\n",
    "    @property\n",
    "    def super_move(self):\n",
    "        return self._super_move\n",
    "\n",
    "    @super_move.setter\n",
    "    def super_move(self, value):\n",
    "        self._super_move = value"
   ]
  },
  {
   "cell_type": "markdown",
   "metadata": {},
   "source": [
    "Next, we need to create the enemy generator.\n",
    "\n",
    "As enemies, they should have some ring to them. But it's really too hard to think of names, so here we have two documents: `adjective.txt` and `animal.txt`.\n",
    "\n",
    "`adjective.txt` contains a number of adjectives, especially evil-sounding ones,just like Amused\\Scary\\Annoyed.\n",
    "\n",
    " `animal.txt` contains the names of different animals.\n",
    "\n",
    "So we just add the adjectives and the animal names to get the names of many kinds of enemies."
   ]
  },
  {
   "cell_type": "code",
   "execution_count": null,
   "metadata": {},
   "outputs": [],
   "source": [
    "with open('adjective.txt', 'r', encoding='utf-8') as f:\n",
    "    NAMES_ADJ = list(map(str.strip, f.readlines()))\n",
    "\n",
    "with open('animal.txt', 'r', encoding='utf-8') as f:\n",
    "    NAMES_ANIMAL = list(map(str.strip, f.readlines()))\n",
    "\n",
    "\n",
    "def enemy_gen(is_boss):\n",
    "    if not is_boss:\n",
    "        health = random.randint(5, 20)\n",
    "        attack = random.randint(5, 10)\n",
    "        special = random.randint(10, 20)\n",
    "        chance = random.randint(1, 10)\n",
    "        name = f'{random.choice(NAMES_ADJ)} {random.choice(NAMES_ANIMAL)}'\n",
    "        return Enemy(**locals())\n",
    "    else:\n",
    "        health = random.randint(50, 70)\n",
    "        attack = random.randint(20, 40)\n",
    "        special = random.randint(50, 60)\n",
    "        chance = random.randint(1, 8)\n",
    "        super_move = random.randint(100, 200)\n",
    "        name = \"Python Homework\"\n",
    "        return Boss(**locals())"
   ]
  },
  {
   "cell_type": "markdown",
   "metadata": {},
   "source": [
    "So let's create an enemy!"
   ]
  },
  {
   "cell_type": "code",
   "execution_count": null,
   "metadata": {},
   "outputs": [],
   "source": [
    "enemy_1 = enemy_gen(is_boss=False)\n",
    "enemy_1"
   ]
  },
  {
   "cell_type": "markdown",
   "metadata": {},
   "source": [
    "Ha,it seems work."
   ]
  },
  {
   "cell_type": "markdown",
   "metadata": {},
   "source": [
    "## Task 3 Battle\n",
    "Finally, we come to the heart of the game, the battle part. We needed to design a complex combat system to enable our heroes to fight against their enemies.\n",
    "\n",
    "That sounds like a lot of challenges. But relax, let's take it step by step.\n",
    "\n",
    "Let's start by recalling what we did in the first two steps, we generated a hero and then an enemy (maybe more). \n",
    "The hero has health attribute, and......er, what other attributes?\n",
    "\n",
    " Let's see what attributes our hero has. You can use python to get the list of attributes for the Hero you just defined\n"
   ]
  },
  {
   "cell_type": "markdown",
   "metadata": {},
   "source": [
    "Well,or maybe we can also slide up on a roller to see:\n",
    "\n",
    "* Health = Hhealth\n",
    "* Attack = Hattack\n",
    "* Luck = Hluck\n",
    "* Ranged = Hranged\n",
    "* Defense = Hdefence\n",
    "* Magic = Hmagic\n",
    "* Name = Hname*\n",
    "\n",
    "\n",
    "At the very beginning we haven't said what the purpose of defining these attributes is. \n",
    "\n",
    "### 3.1 Attribute-health\n",
    "The hero's `health` is what is often referred to in the game as his life value; if it is less than 0, that means the character is about to die. So we should start by writing a function that determines survival.\n",
    "\n"
   ]
  },
  {
   "cell_type": "code",
   "execution_count": null,
   "metadata": {},
   "outputs": [],
   "source": [
    "# def is_dead(health): ...  # moved as a property in class `Hero` & `Enemy`"
   ]
  },
  {
   "cell_type": "markdown",
   "metadata": {},
   "source": [
    "A good start!\n",
    "\n",
    "### 3.2 Attribute-Luck\n",
    "Then,attribute `Luck` represents how lucky our character is.\n",
    "\n",
    "When you are lucky, you will be more likely to be able to attack the opponent, so we define a function that determines whether the attack is a good one or not.\n"
   ]
  },
  {
   "cell_type": "code",
   "execution_count": null,
   "metadata": {},
   "outputs": [],
   "source": [
    "def hit_chance(luck):\n",
    "    hit = random.randint(0, 4)\n",
    "    if luck < hit:\n",
    "        typing(\"LOL, you missed\")\n",
    "        return False\n",
    "    else:\n",
    "        typing(\"You hit the enemy!\")\n",
    "        return True"
   ]
  },
  {
   "cell_type": "markdown",
   "metadata": {},
   "source": [
    "### 3.3 Other attribute\n",
    "Next, attribute `Attack` represents our character's ability to attack conventionally, attribute `Ranged` represents our character's ability to bow and arrow, and attribute `Magic` represents our character's ability to use magic.Let's also keep it simple here and just use the ability to represent the attack value.\n",
    "\n",
    "\n",
    "Well....It may be difficult to understand, so let's practice makes perfect.\n",
    "We can try to write combat functions.\n",
    "\n",
    "We can start with an example of a enemy's attack.\n",
    "\n",
    "Because,they only have the `attack` attribute, and the actual `damage` they do to us is their `attack` value minus our `defence` attribute."
   ]
  },
  {
   "cell_type": "code",
   "execution_count": null,
   "metadata": {},
   "outputs": [],
   "source": [
    "def enemy_attack(self: Enemy, hero: Hero):\n",
    "    \"\"\"\n",
    "    :param hit_chance:\n",
    "    :param attack_value:\n",
    "    :param name:\n",
    "    :param defence:\n",
    "    :return: This function will return the attack inflicted if an enemy hits you\n",
    "    \"\"\"\n",
    "    print(f\"{self.name} is preparing for an attack \")\n",
    "    hit = random.randint(0, 10)\n",
    "    if self.chance >= hit:\n",
    "        print(\"It has hit you!\")\n",
    "        loss = self.attack - hero.defence\n",
    "        print(f\"You stagger and you loose {loss} points of health\")\n",
    "        return math.ceil(loss)  # pos\n",
    "    else:\n",
    "        print(\"You're lucky: the enemy missed you\")\n",
    "        return 0\n",
    "\n",
    "\n",
    "Enemy.try_attack = enemy_attack"
   ]
  },
  {
   "cell_type": "markdown",
   "metadata": {},
   "source": [
    "So turn your attention back to the battle function which aims to simulate a battle between the hero and an enemy."
   ]
  },
  {
   "cell_type": "code",
   "execution_count": null,
   "metadata": {},
   "outputs": [],
   "source": [
    "def battle(enemygen: Enemy, gen_character: Hero):\n",
    "    \"\"\"\n",
    "    :param enemygen:\n",
    "    :param gen_character:\n",
    "    :return: it will return the battle between the hero and the enemy\n",
    "    \"\"\"\n",
    "\n",
    "    while True:\n",
    "        typing(f\"Choose your weapon {gen_character.name}!\")\n",
    "        typing(\"Sword Attack(1) \\nRanged Attack(2) \\nMagic Attack(3)\")\n",
    "        choice = input()  # value error without try-catch\n",
    "        while choice not in ['1', '2', '3']:\n",
    "            typing(f\"Heeeeeeeee! A {enemygen.name} is trying to kill us and you're typing the wrong keys!\")\n",
    "            time.sleep(3)\n",
    "            typing(\"Sword Attack(1) \\nRanged Attack(2) \\nMagic Attack(3) \\n Choose your weapon: \")\n",
    "            choice = int(input())\n",
    "\n",
    "        if choice == 1:\n",
    "            damage = gen_character.attack\n",
    "        elif choice == 2:\n",
    "            damage = gen_character.ranged\n",
    "        else:\n",
    "            damage = gen_character.magic\n",
    "\n",
    "        typing(\"You are preparing for the attack\")\n",
    "\n",
    "        if hit_chance(gen_character.luck):\n",
    "            enemygen.health -= damage\n",
    "            typing(\"You've hit the enemy!\")\n",
    "            typing(f\"The enemy health is {enemygen.health}\")\n",
    "        else:\n",
    "            typing(\"Your attack missed!\")\n",
    "\n",
    "        if enemygen.is_dead:\n",
    "            typing(\"You have defeated the enemy\")\n",
    "            if 'loot' in globals():\n",
    "                typing(\"Did it drop any loot?\")\n",
    "                loot(gen_character.luck, gen_character)\n",
    "            return True\n",
    "\n",
    "        gen_character.health -= enemygen.try_attack(gen_character)\n",
    "        if gen_character.is_dead:\n",
    "            return False\n",
    "        else:\n",
    "            typing(f\"You character remaining health is {gen_character.health}\")"
   ]
  },
  {
   "cell_type": "markdown",
   "metadata": {},
   "source": [
    "Let's try to fight the first enemy!!!"
   ]
  },
  {
   "cell_type": "code",
   "execution_count": null,
   "metadata": {},
   "outputs": [],
   "source": [
    "battle_result1 = battle(enemygen=enemy_1, gen_character=gen_character)\n",
    "battle_result1"
   ]
  },
  {
   "cell_type": "markdown",
   "metadata": {},
   "source": [
    "## Task 4 Keep Going\n",
    "\n",
    "It seems that the general framework of the game has been reached, but our heroes are still short of opportunities to grow, we may need to add a growth system, otherwise how are we going to fight the bosses?"
   ]
  },
  {
   "cell_type": "code",
   "execution_count": null,
   "metadata": {},
   "outputs": [],
   "source": [
    "import csv\n",
    "import contextlib\n",
    "\n",
    "def loot(luck, gen_character):\n",
    "    loot_chance = random.randint(0, 4)\n",
    "    if luck < loot_chance:\n",
    "        typing(\"No loot found );\")\n",
    "        return\n",
    "\n",
    "    table_number = random.randint(0, 4)\n",
    "    loot_table_list = ['items', 'ranged', 'defence', 'magic', 'attack']\n",
    "    item_type = loot_table_list[table_number]\n",
    "\n",
    "    opts = []\n",
    "    with open(f'{item_type}.txt', 'r', encoding='utf-8') as f:\n",
    "        reader = csv.reader(f)\n",
    "        typing('You got these loots and you can choose one of them')\n",
    "        for idx, rec in enumerate(reader):\n",
    "            rec = list(map(str.strip, rec))\n",
    "            name, val, attribute, *_ = rec\n",
    "            typing(f'({idx + 1}) {name}: it will enhance {val} points for your {attribute or item_type}')\n",
    "            opts.append((name, int(val), attribute or item_type))  # rec[:3]\n",
    "\n",
    "    choice = -1\n",
    "    while not (0 < choice <= len(opts)):\n",
    "        with contextlib.suppress(ValueError):\n",
    "            choice = int(input(typing(f'Please enter your choice (1-{len(opts)})')))\n",
    "\n",
    "    attr = getattr(gen_character.__class__, opts[choice][-1])\n",
    "    old_val = attr.fget(gen_character)\n",
    "    new_val = old_val + opts[choice][1]\n",
    "    attr.fset(gen_character, new_val)\n",
    "    typing(f'Successfully upgrade {gen_character.name}\\'s {opts[choice][-1]} from {old_val} to {new_val}')\n",
    "\n",
    "    ## 2.Add the appropriate value for the character based on the item's properties\n",
    "    ## wtf do you mean `appropriate`? don't copy the unclear question from some university before you do it in yourself!"
   ]
  },
  {
   "cell_type": "markdown",
   "metadata": {},
   "source": [
    "Then,we can renew our battle functions:\n",
    "\n",
    "ps:\n",
    "The code here is the same as the previous code, just add the `loot` function at the end to the code you completed earlier"
   ]
  },
  {
   "cell_type": "code",
   "execution_count": null,
   "metadata": {},
   "outputs": [],
   "source": [
    "# not needed"
   ]
  },
  {
   "cell_type": "markdown",
   "metadata": {},
   "source": [
    "At the same time, fighting sometimes succeeds and sometimes fails. Maybe we also need to add a judgment on the hero's life value. If the life value is 0, then the hero dies, and our game is over."
   ]
  },
  {
   "cell_type": "code",
   "execution_count": null,
   "metadata": {},
   "outputs": [],
   "source": [
    "def game_over(enemy_dead):\n",
    "    if enemy_dead:\n",
    "        typing(\"You've defeated your enemy\")\n",
    "    else:\n",
    "        typing(f\"You are out of health {gen_character.name}!\")\n",
    "        time.sleep(8)\n",
    "        typing(\"It's a pity... Game Over\")"
   ]
  },
  {
   "cell_type": "markdown",
   "metadata": {},
   "source": [
    "Next, let's march towards the second enemy"
   ]
  },
  {
   "cell_type": "code",
   "execution_count": null,
   "metadata": {},
   "outputs": [],
   "source": [
    "enemy_2 = enemy_gen(is_boss=False)\n",
    "battle_result2 = battle(enemygen=enemy_2, gen_character=gen_character)\n",
    "game_over(battle_result2)"
   ]
  },
  {
   "cell_type": "markdown",
   "metadata": {},
   "source": [
    "It feels good to progress! \n",
    "Let's move on to the third enemy"
   ]
  },
  {
   "cell_type": "code",
   "execution_count": null,
   "metadata": {},
   "outputs": [],
   "source": [
    "enemy_3 = enemy_gen(is_boss=False)\n",
    "battle_result3 = battle(enemygen=enemy_3, gen_character=gen_character)\n",
    "game_over(battle_result3)"
   ]
  },
  {
   "cell_type": "code",
   "execution_count": null,
   "metadata": {},
   "outputs": [],
   "source": [
    "enemy_4 = enemy_gen(is_boss=False)\n",
    "battle_result4 = battle(enemygen=enemy_4, gen_character=gen_character)\n",
    "game_over(battle_result4)"
   ]
  },
  {
   "cell_type": "markdown",
   "metadata": {},
   "source": [
    "Maybe when you are ready, we will fight towards the final boss."
   ]
  },
  {
   "cell_type": "code",
   "execution_count": null,
   "metadata": {},
   "outputs": [],
   "source": [
    "enemy_boss = enemy_gen(is_boss=True)\n",
    "enemy_boss"
   ]
  },
  {
   "cell_type": "code",
   "execution_count": null,
   "metadata": {},
   "outputs": [],
   "source": [
    "battle_result_boss = battle(enemygen=enemy_boss, gen_character=gen_character)\n",
    "game_over(battle_result_boss)"
   ]
  },
  {
   "cell_type": "code",
   "execution_count": null,
   "metadata": {
    "collapsed": false
   },
   "outputs": [],
   "source": []
  }
 ],
 "metadata": {
  "kernelspec": {
   "display_name": "Python 3.8.6 64-bit",
   "language": "python",
   "name": "python3"
  },
  "language_info": {
   "codemirror_mode": {
    "name": "ipython",
    "version": 3
   },
   "file_extension": ".py",
   "mimetype": "text/x-python",
   "name": "python",
   "nbconvert_exporter": "python",
   "pygments_lexer": "ipython3",
   "version": "3.8.6"
  },
  "vscode": {
   "interpreter": {
    "hash": "2469a70536e4d2335a2ea8907942d0699c37342a371ac185bdb5b0aa6f073890"
   }
  }
 },
 "nbformat": 4,
 "nbformat_minor": 0
}
