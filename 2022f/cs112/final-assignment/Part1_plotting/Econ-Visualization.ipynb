{
 "cells": [
  {
   "cell_type": "markdown",
   "metadata": {
    "collapsed": true
   },
   "source": [
    "# Assignment Part 1: Economy Data Visualization\n",
    "\n",
    "In this assignment, you will be working with city-wide economic data for China from 2010 to 2019. This data includes information on population size, urbanization rate, and disposable income for various cities in China. You will use the Python libraries Numpy, Pandas, and Matplotlib to analyze and visualize this data, and gain insights into trends and patterns in the Chinese economy over the past decade. You will start by reading the data into a Pandas dataframe, and then use Numpy and Pandas to manipulate and summarize the data. You will then use Matplotlib to create plots and charts to visualize the data and uncover trends and patterns.\n",
    "\n",
    "By completing this assignment, you will gain hands-on experience with these important tools for data analysis and visualization in Python, and develop your skills in working with real-world data."
   ]
  },
  {
   "cell_type": "code",
   "execution_count": null,
   "metadata": {},
   "outputs": [],
   "source": [
    "import matplotlib.pyplot as plt\n",
    "import pandas as pd\n",
    "import numpy as np\n",
    "import seaborn as sns\n",
    "\n",
    "census = pd.read_csv('census.csv')\n",
    "census = census.fillna(0)"
   ]
  },
  {
   "cell_type": "markdown",
   "metadata": {
    "collapsed": false
   },
   "source": [
    "# Task 1: Urbanization Analysis"
   ]
  },
  {
   "cell_type": "code",
   "execution_count": null,
   "metadata": {
    "collapsed": false
   },
   "outputs": [],
   "source": [
    "\"\"\"\n",
    "Preprocess dataframe.\n",
    "\"\"\"\n",
    "dataframe = pd.DataFrame(census, columns=['year', 'dum', 'urbanization_rate', 'urban_disposable_income',\n",
    "                                          'rural_disposable_income'])\n",
    "dataframe"
   ]
  },
  {
   "attachments": {},
   "cell_type": "markdown",
   "metadata": {},
   "source": [
    "We have the urbanization_rate of several cities between 2010 and 2019.\n",
    "Now, we are going to find the most `successful` city on urbanization.\n",
    "For example, Beijing's urbanization_rate is 0.860 on 2010 and 0.866 on 2019.\n",
    "Beijing has a 0.006 improvement.\n",
    "The task is to find the city with the highest improvement.\n",
    "\n",
    "We visualize the average urbanization_rate from 2010 to 2019.\n",
    "It is promising to find that the urbanization_rate improves gradually recent years."
   ]
  },
  {
   "cell_type": "code",
   "execution_count": null,
   "metadata": {
    "collapsed": false
   },
   "outputs": [],
   "source": [
    "plt.figure(figsize=(10, 5))\n",
    "sns.lineplot(data=dataframe, x='year', y='urbanization_rate', estimator='mean')\n",
    "plt.show()"
   ]
  },
  {
   "attachments": {},
   "cell_type": "markdown",
   "metadata": {},
   "source": [
    "Now, we need to collect the improvements for all the cities.\n",
    "Specifically, `collected_urban_rates` is a numpy array with shape [num_cities, 2].\n",
    "Each row contains urbanization rates of a city on 2010 and 2019, respectively."
   ]
  },
  {
   "cell_type": "code",
   "execution_count": null,
   "metadata": {
    "collapsed": false
   },
   "outputs": [],
   "source": [
    "cities = list(set(dataframe['dum']))\n",
    "\n",
    "collected_urban_rates = np.empty((len(cities), 2))\n",
    "\n",
    "for idx, city in enumerate(cities):\n",
    "    city_data = dataframe[dataframe['dum'] == city]\n",
    "    r1 = city_data[city_data['year'] == 2010]['urbanization_rate'].values[0]\n",
    "    r2 = city_data[city_data['year'] == 2019]['urbanization_rate'].values[0]\n",
    "    collected_urban_rates[idx] = r1, r2\n",
    "\n",
    "idx = np.argmax(collected_urban_rates[:, 1] - collected_urban_rates[:, 0])\n",
    "print(\n",
    "    f\"The most successful city is {cities[idx]}, the urbanization rate improves from {collected_urban_rates[idx, 0]} to {collected_urban_rates[idx, 1]}.\")"
   ]
  },
  {
   "cell_type": "markdown",
   "metadata": {
    "collapsed": false
   },
   "source": [
    "# Task 2: Economy Data Visualization\n",
    "\n",
    "In this task, we are going to visualize some economy data and trends in the dataset."
   ]
  },
  {
   "cell_type": "code",
   "execution_count": null,
   "metadata": {
    "collapsed": false
   },
   "outputs": [],
   "source": [
    "df = dataframe.loc[dataframe['dum'].isin(('Beijing', 'Guangzhou City', 'Shanghai', 'Shenzhen'))]\n",
    "plt.figure(figsize=(10, 5))\n",
    "sns.lineplot(data=df, x='year', y='urban_disposable_income', hue='dum')\n",
    "plt.show()"
   ]
  },
  {
   "attachments": {},
   "cell_type": "markdown",
   "metadata": {},
   "source": [
    "The Theil index is a statistic primarily used to measure economic inequality. For more information, you can refer to https://en.wikipedia.org/wiki/Theil_index\n",
    "Here, let's find out the cities who has higher Theil index in 2019 than that in 2010, and then draw a bar plot of their change from 2010 to 2019."
   ]
  },
  {
   "cell_type": "code",
   "execution_count": null,
   "metadata": {
    "collapsed": false
   },
   "outputs": [],
   "source": [
    "df_theil = pd.DataFrame(census, columns=['year', 'dum', 'theil_index'])\n",
    "df_theil = df_theil.groupby(['dum', 'year']).theil_index.min().reset_index()\n",
    "df_theil = df_theil.pivot(index='dum', columns='year', values='theil_index')\n",
    "df_theil[2019] = pd.to_numeric(df_theil[2019], errors='coerce')\n",
    "df_theil[2010] = pd.to_numeric(df_theil[2010], errors='coerce')\n",
    "df_theil['change'] = df_theil[2019] - df_theil[2010]\n",
    "\n",
    "target = df_theil[df_theil['change'] > 0]\n",
    "\n",
    "plt.figure(figsize=(6, 3))\n",
    "sns.barplot(data=target, x=target.index, y='change')\n",
    "plt.show()"
   ]
  },
  {
   "attachments": {},
   "cell_type": "markdown",
   "metadata": {
    "collapsed": false
   },
   "source": [
    "# Task 3: Disposable income\n",
    "\n",
    "In this task, you need to analyze average disposable income in the dataset."
   ]
  },
  {
   "attachments": {},
   "cell_type": "markdown",
   "metadata": {},
   "source": [
    "First, you need to calculate the disposable income for each city. Suppose this can be calculated by:\n",
    "$$ \\text{disposable\\_income} =\\text{urban\\_disposable\\_income}\\times \\text{urbanization\\_rate}+\\text{rural\\_disposable\\_income}\\times(1-\\text{urbanization\\_rate})$$"
   ]
  },
  {
   "cell_type": "code",
   "execution_count": null,
   "metadata": {},
   "outputs": [],
   "source": [
    "df_disp = pd.DataFrame(census, columns=['year', 'dum', 'urbanization_rate', 'urban_disposable_income',\n",
    "                                        'rural_disposable_income', 'urban_total_income', 'rural_total_income'])\n",
    "df_disp['disposable_income'] = df_disp['urban_disposable_income'] * df_disp['urbanization_rate'] + \\\n",
    "                               df_disp['rural_disposable_income'] * (1 - df_disp['urbanization_rate'])\n",
    "df_disp['total_income'] = df_disp['urban_total_income'] * df_disp['urbanization_rate'] + \\\n",
    "                               df_disp['rural_total_income'] * (1 - df_disp['urbanization_rate'])\n",
    "df_disp"
   ]
  },
  {
   "attachments": {},
   "cell_type": "markdown",
   "metadata": {},
   "source": [
    "Then, calculate the average disposable income and total income for each city from 2011 to 2019."
   ]
  },
  {
   "cell_type": "code",
   "execution_count": null,
   "metadata": {},
   "outputs": [],
   "source": [
    "df_disp = df_disp[df_disp['year'] != 2010]\n",
    "res = df_disp.groupby('dum')['disposable_income', 'total_income'].mean()\n",
    "res"
   ]
  },
  {
   "attachments": {},
   "cell_type": "markdown",
   "metadata": {},
   "source": [
    "Finally, regression analysis is needed to find the relationship between the disposable_income and total_income.\n",
    "For that, use seaborn.regplot to regress  disposable_income and total_income."
   ]
  },
  {
   "cell_type": "code",
   "execution_count": null,
   "metadata": {},
   "outputs": [],
   "source": [
    "plt.figure(figsize=(16, 3))\n",
    "sns.regplot(data=res, x='total_income', y='disposable_income')\n",
    "plt.show()"
   ]
  },
  {
   "cell_type": "code",
   "execution_count": null,
   "metadata": {
    "collapsed": false
   },
   "outputs": [],
   "source": []
  }
 ],
 "metadata": {
  "kernelspec": {
   "display_name": "Python 3",
   "language": "python",
   "name": "python3"
  },
  "language_info": {
   "codemirror_mode": {
    "name": "ipython",
    "version": 3
   },
   "file_extension": ".py",
   "mimetype": "text/x-python",
   "name": "python",
   "nbconvert_exporter": "python",
   "pygments_lexer": "ipython3",
   "version": "3.10.4 (tags/v3.10.4:9d38120, Mar 23 2022, 23:13:41) [MSC v.1929 64 bit (AMD64)]"
  },
  "vscode": {
   "interpreter": {
    "hash": "623568469e8e57dc4aed92b9b143063b2532ed5f3a3b218224b73fc432d4b479"
   }
  }
 },
 "nbformat": 4,
 "nbformat_minor": 0
}
