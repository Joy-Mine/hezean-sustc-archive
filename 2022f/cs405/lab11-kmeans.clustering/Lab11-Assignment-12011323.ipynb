{
 "cells": [
  {
   "cell_type": "code",
   "execution_count": 1,
   "metadata": {
    "collapsed": true
   },
   "outputs": [],
   "source": [
    "import numpy as np\n",
    "import cv2\n",
    "import tqdm\n",
    "import os\n",
    "import sys\n",
    "\n",
    "# color of different clusters\n",
    "GBR = [[0, 0, 255],\n",
    "       [0, 128, 255],\n",
    "       [255, 0, 0],\n",
    "       [128, 0, 128],\n",
    "       [255, 0, 255]]\n",
    "\n",
    "# path configuration\n",
    "project_root = os.path.abspath('.')\n",
    "output_path = os.path.join(project_root)\n",
    "input_path = os.path.join(project_root)\n",
    "if not os.path.exists(output_path):\n",
    "    os.makedirs(output_path)"
   ]
  },
  {
   "cell_type": "code",
   "execution_count": 2,
   "metadata": {
    "collapsed": false
   },
   "outputs": [],
   "source": [
    "def kmeans(data: np.ndarray, n_cl: int):\n",
    "    \"\"\"\n",
    "        K-means\n",
    "\n",
    "    :param data:    original data\n",
    "    :param n_cl:    number of classes\n",
    "    :param seeds:   seeds\n",
    "    :return:        new labels and new seeds\n",
    "    \"\"\"\n",
    "    n_samples, channel = data.shape\n",
    "\n",
    "    centers = data[np.random.choice(n_samples, n_cl, replace=False)]\n",
    "    old_labels = np.zeros((n_samples,))\n",
    "\n",
    "    while True:\n",
    "        distance = np.sqrt(np.sum((data[:, np.newaxis, :] - centers[np.newaxis, :, :]) ** 2, axis=2))\n",
    "        new_labels = np.argmin(distance, axis=1)\n",
    "\n",
    "        centers = np.array([np.mean(data[new_labels == cat], axis=0) for cat in range(n_cl)])\n",
    "\n",
    "        if np.all(new_labels == old_labels):\n",
    "            break\n",
    "        old_labels = new_labels\n",
    "\n",
    "    return old_labels"
   ]
  },
  {
   "cell_type": "code",
   "execution_count": 3,
   "metadata": {
    "collapsed": false
   },
   "outputs": [
    {
     "name": "stdout",
     "output_type": "stream",
     "text": [
      "Begin clustering with 3 classes:\n"
     ]
    },
    {
     "name": "stderr",
     "output_type": "stream",
     "text": [
      "100%|██████████| 35/35 [03:18<00:00,  5.68s/it]\n"
     ]
    }
   ],
   "source": [
    "def detect(video, n_cl=2):\n",
    "    # load video, get number of frames and get shape of frame\n",
    "    cap = cv2.VideoCapture(video)\n",
    "    fps = int(cap.get(cv2.CAP_PROP_FRAME_COUNT))\n",
    "    size = (int(cap.get(cv2.CAP_PROP_FRAME_WIDTH)),\n",
    "            int(cap.get(cv2.CAP_PROP_FRAME_HEIGHT)))\n",
    "\n",
    "    # instantiate a video writer\n",
    "    video_writer = cv2.VideoWriter(os.path.join(output_path, \"result_with_%dclz.mp4\" % n_cl),\n",
    "                                   cv2.VideoWriter_fourcc(*'mp4v'),\n",
    "                                   (fps / 10),\n",
    "                                   size,\n",
    "                                   isColor=True)\n",
    "\n",
    "    # initialize frame and seeds\n",
    "    ret, frame = cap.read()\n",
    "\n",
    "\n",
    "    print(\"Begin clustering with %d classes:\" % n_cl)\n",
    "    bar = tqdm.tqdm(total=fps)  # progress bar\n",
    "    while ret:\n",
    "        frame = np.float32(frame)\n",
    "        h, w, c = frame.shape\n",
    "\n",
    "        # k-means\n",
    "        data = frame.reshape((h * w, c))\n",
    "        labels = kmeans(data, n_cl=n_cl)\n",
    "\n",
    "        # give different cluster different colors\n",
    "        new_frame = np.array([GBR[labels[i]] for i in range(h * w)])\n",
    "        new_frame = new_frame.reshape((h, w, c)).astype(\"uint8\")\n",
    "        video_writer.write(new_frame)\n",
    "\n",
    "        ret, frame = cap.read()\n",
    "        bar.update()\n",
    "\n",
    "    # release resources\n",
    "    video_writer.release()\n",
    "    cap.release()\n",
    "    cv2.destroyAllWindows()\n",
    "\n",
    "\n",
    "video_sample = os.path.join(input_path, \"road_video.MOV\")\n",
    "detect(video_sample, n_cl=3)\n"
   ]
  },
  {
   "cell_type": "markdown",
   "metadata": {
    "collapsed": false
   },
   "source": [
    "### Questions\n",
    "\n",
    "1. What are the strengths of K-means; when does it perform well?\n",
    "\n",
    "  - it's simple and efficient, especially for large datasets\n",
    "  - it's versatile and can be used with a variety of different types of data.\n",
    "  - it's guaranteed to reach convergence\n",
    "  - it could be easy to adapt new samples\n",
    "\n",
    "2. What are the weaknesses of K-means; when does it perform poorly?\n",
    "\n",
    "  - the parameter `k` needs to be chosen manually\n",
    "  - centroids can be dragged by outliers, or outliers might get their own cluster instead of being ignored\n",
    "  - the model scales with number of dimensions\n",
    "  - k-means has trouble clustering data where clusters are of varying sizes and density\n",
    "\n",
    "3. What makes K-means a good candidate for the clustering problem, if you have enough knowledge about the data?\n",
    "\n",
    "  - when the data is well-defined and well-separated\n",
    "  - k-means can be a good choice for its high performance when the dataset is relative large\n"
   ]
  },
  {
   "cell_type": "code",
   "execution_count": null,
   "metadata": {
    "collapsed": false
   },
   "outputs": [],
   "source": []
  }
 ],
 "metadata": {
  "kernelspec": {
   "display_name": "Python 3",
   "language": "python",
   "name": "python3"
  },
  "language_info": {
   "codemirror_mode": {
    "name": "ipython",
    "version": 2
   },
   "file_extension": ".py",
   "mimetype": "text/x-python",
   "name": "python",
   "nbconvert_exporter": "python",
   "pygments_lexer": "ipython2",
   "version": "2.7.6"
  }
 },
 "nbformat": 4,
 "nbformat_minor": 0
}
