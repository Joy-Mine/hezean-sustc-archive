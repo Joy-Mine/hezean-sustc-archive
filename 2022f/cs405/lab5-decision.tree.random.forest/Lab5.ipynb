{
 "cells": [
  {
   "cell_type": "markdown",
   "metadata": {},
   "source": [
    "# <center>LAB5 tutorial for Machine Learning <br > Decision Tree and Random Forest</center>\n",
    "## LAB Assignment  <!-- 眭和 -->\n",
    "This lab introduces classical machine learning algorithms, decision trees (DTs) and their ensemble learning (e.g., Random Forests). Decision trees are important non-parameter learning methods. Although DTs are simple and limited, they still can achieve excellent performance using ensemble learning schemes.\n",
    "\n",
    "For this lab assignment, we'll use the algorithms we've learned today to fit the model and evaluate the model’s prediction performance. The scikit-learn package will be used to save your time.\n",
    "\n",
    "### Decision tree\n",
    "- <font size=4>Step 1. load iris dataset </font>\n",
    "\n",
    "Datasets: First, we load the scikit-learn iris toy dataset ."
   ]
  },
  {
   "cell_type": "code",
   "execution_count": 24,
   "metadata": {},
   "outputs": [],
   "source": [
    "import numpy as np\n",
    "import matplotlib.pyplot as plt\n",
    "from mlxtend.evaluate import bias_variance_decomp\n",
    "from sklearn import datasets\n",
    "from sklearn.model_selection import train_test_split\n",
    "from sklearn.tree import DecisionTreeClassifier\n",
    "iris = datasets.load_iris()"
   ]
  },
  {
   "cell_type": "markdown",
   "metadata": {},
   "source": [
    "- <font size=4> Step 2. Define the features and the target </font>"
   ]
  },
  {
   "cell_type": "code",
   "execution_count": 25,
   "metadata": {},
   "outputs": [],
   "source": [
    "X = iris.data[:,2:]\n",
    "y = iris.target"
   ]
  },
  {
   "cell_type": "markdown",
   "metadata": {},
   "source": [
    "- <font size=4> Step 3. Visualization </font>\n",
    "  \n",
    "    We need to use proper visualization methods to have an intuitive understanding.\n",
    "\n",
    "    For visualization, only the last 2 attributes are used."
   ]
  },
  {
   "cell_type": "code",
   "execution_count": 26,
   "metadata": {},
   "outputs": [
    {
     "data": {
      "image/png": "[encoded data removed]",
      "text/plain": [
       "<Figure size 640x480 with 1 Axes>"
      ]
     },
     "metadata": {},
     "output_type": "display_data"
    }
   ],
   "source": [
    "plt.scatter(X[y==0, 0], X[y==0, 1])\n",
    "plt.scatter(X[y==1, 0], X[y==1, 1])\n",
    "plt.scatter(X[y==2, 0], X[y==2, 1])\n",
    "plt.show()"
   ]
  },
  {
   "cell_type": "markdown",
   "metadata": {},
   "source": [
    "- <font size=4> Step 4. Preprocessing data </font>\n",
    "Please check whether the data needs to be preprocessed"
   ]
  },
  {
   "cell_type": "code",
   "execution_count": 27,
   "metadata": {},
   "outputs": [
    {
     "name": "stdout",
     "output_type": "stream",
     "text": [
      "<class 'pandas.core.frame.DataFrame'>\n",
      "RangeIndex: 150 entries, 0 to 149\n",
      "Data columns (total 4 columns):\n",
      " #   Column             Non-Null Count  Dtype  \n",
      "---  ------             --------------  -----  \n",
      " 0   sepal length (cm)  150 non-null    float64\n",
      " 1   sepal width (cm)   150 non-null    float64\n",
      " 2   petal length (cm)  150 non-null    float64\n",
      " 3   petal width (cm)   150 non-null    float64\n",
      "dtypes: float64(4)\n",
      "memory usage: 4.8 KB\n"
     ]
    }
   ],
   "source": [
    "import pandas as pd\n",
    "df = pd.DataFrame(data=iris.data, columns=iris.feature_names)\n",
    "df.info()"
   ]
  },
  {
   "cell_type": "markdown",
   "metadata": {},
   "source": [
    "- <font size=4> Step 5. Split the dataset into train and test sets </font>\n",
    "  \n",
    " Now we divide the whole dataset into a training set and a test set using the the scikit-learn model_selection module."
   ]
  },
  {
   "cell_type": "code",
   "execution_count": 28,
   "metadata": {},
   "outputs": [],
   "source": [
    "X_train, X_test, y_train, y_test = train_test_split(X, y, test_size=0.2, random_state=2)"
   ]
  },
  {
   "cell_type": "markdown",
   "metadata": {},
   "source": [
    "- <font size=4> Step 6. Explore the model parameters </font>\n",
    "  \n",
    "Decision trees are quite easy to use, but they are prone to overfit the training data. Actually almost all the non-parameter learning methods suffer from this problem. We can use pruning to optimize our trained decision trees; we can also adjust the super parameters to avoid overfitting.\n",
    "\n",
    "The decision tree model  given by the `SkLearn`  is as follows:\n",
    "\n",
    "```python\n",
    "DecisionTreeClassifier(criterion='gini', splitter='best', max_depth=None, min_samples_split=2, min_samples_leaf=1, min_weight_fraction_leaf=0.0, max_features=None, random_state=None, max_leaf_nodes=None, min_impurity_decrease=0.0, class_weight=None, ccp_alpha=0.0)\n",
    "```\n",
    "There are so many arguments and they are all helpful in adjusting the algorithm parameters to achieve the balance between bias and variance.  \n",
    "Adjust these parameters: `criterion`,`max_depth`, `min_samples_leaf`,  `min_samples_split` , `max_leaf_nodes `,`min_impurity_split `\n",
    "and explain how it affects the bias and variance of the classification results. \n"
   ]
  },
  {
   "cell_type": "code",
   "execution_count": 29,
   "metadata": {},
   "outputs": [
    {
     "name": "stdout",
     "output_type": "stream",
     "text": [
      "{'criterion': 'gini', 'max_depth': 3, 'min_impurity_decrease': 0.0, 'min_samples_leaf': 1, 'min_samples_split': 3}\n",
      "0.975\n"
     ]
    }
   ],
   "source": [
    "from sklearn.model_selection import GridSearchCV\n",
    "tree = DecisionTreeClassifier()\n",
    "param_grid = {\n",
    "        'criterion' : [\"gini\", \"entropy\", \"log_loss\"],\n",
    "        'max_depth' : range(1, 10, 1),\n",
    "        'min_samples_leaf' : range(1, 10, 1),\n",
    "        'min_samples_split' : range(2, 10, 1),\n",
    "        'min_impurity_decrease' : [0.0, 0.1, 0.2, 0.3, 0.4, 0.5]\n",
    "    }\n",
    "grid_search = GridSearchCV(tree, param_grid, cv=10)\n",
    "grid_search.fit(X_train, y_train)\n",
    "print(grid_search.best_params_)\n",
    "print(grid_search.best_score_)\n"
   ]
  },
  {
   "cell_type": "markdown",
   "metadata": {},
   "source": [
    "Therefore, the criterion should choose criterion: gini, max_depth: 3, min_samples_leaf = 1,min_samples_split = 3, min_impurity_decrease = 0.0"
   ]
  },
  {
   "cell_type": "markdown",
   "metadata": {},
   "source": [
    "- <font size=4> Step 7. Use the model of your choice on the test set </font>"
   ]
  },
  {
   "cell_type": "code",
   "execution_count": 36,
   "metadata": {},
   "outputs": [],
   "source": [
    "from sklearn.metrics import accuracy_score\n",
    "model = DecisionTreeClassifier(criterion='gini', splitter='best', max_depth=3, min_samples_split=3, min_samples_leaf=1, min_weight_fraction_leaf=0.0, max_features=None, random_state=None, max_leaf_nodes=None, min_impurity_decrease=0.0, class_weight=None, ccp_alpha=0.0)\n",
    "model.fit(X_train, y_train)\n",
    "pred = model.predict(X_test)"
   ]
  },
  {
   "cell_type": "markdown",
   "metadata": {},
   "source": [
    "- <font size=4> Step 8. Evaluate the model </font>"
   ]
  },
  {
   "cell_type": "code",
   "execution_count": 37,
   "metadata": {},
   "outputs": [
    {
     "name": "stdout",
     "output_type": "stream",
     "text": [
      "0.9666666666666667\n",
      "Average Expected Loss: 0.0367\n",
      "Average Bias: 0.0333\n",
      "Average Variance: 0.0033\n"
     ]
    }
   ],
   "source": [
    "print(accuracy_score(pred, y_test))\n",
    "avg_expected_loss, avg_bias, avg_var = bias_variance_decomp(model, X_train, y_train, X_test, y_test, loss='0-1_loss',random_seed=None,num_rounds=10)\n",
    "print(f'Average Expected Loss: {round(avg_expected_loss, 4)}')\n",
    "print(f'Average Bias: {round(avg_bias, 4)}')\n",
    "print(f'Average Variance: {round(avg_var, 4)}')"
   ]
  },
  {
   "cell_type": "markdown",
   "metadata": {},
   "source": [
    "- <font size=4> Step 9. Visual decision boundary and generated decision tree </font>"
   ]
  },
  {
   "cell_type": "code",
   "execution_count": 39,
   "metadata": {},
   "outputs": [
    {
     "data": {
      "image/png": "[encoded data removed]",
      "text/plain": [
       "<Figure size 640x480 with 1 Axes>"
      ]
     },
     "metadata": {},
     "output_type": "display_data"
    }
   ],
   "source": [
    "from mlxtend.plotting import plot_decision_regions\n",
    "plot_decision_regions(X_train, y_train, clf=model)\n",
    "plt.title('Decision Tree Classifier')\n",
    "plt.show()\t"
   ]
  },
  {
   "cell_type": "markdown",
   "metadata": {},
   "source": [
    "### Random forest\n",
    "\n",
    "In this section, you are required to use random forests for classification. Thus, in `scikit-learn`, there are two ways to implement a random forset, from the Bagging view and from the RF view.<br>\n",
    "Classify `iris`  using `BaggingClassifier( )` and `RandomForestClassifier( )` respectively, \n",
    "- Compare the performances of two  methods, and select different parameters for model  and evaluate the model using bias and variance\n",
    "\n",
    "\n"
   ]
  },
  {
   "cell_type": "code",
   "execution_count": 40,
   "metadata": {},
   "outputs": [
    {
     "name": "stdout",
     "output_type": "stream",
     "text": [
      "Random Forest:\n",
      "0.9666666666666667\n",
      "Average Expected Loss: 0.04\n",
      "Average Bias: 0.0333\n",
      "Average Variance: 0.0067\n",
      "Bagging\n",
      "0.9333333333333333\n",
      "Average Expected Loss: 0.0467\n",
      "Average Bias: 0.0333\n",
      "Average Variance: 0.0133\n"
     ]
    }
   ],
   "source": [
    "from sklearn.ensemble import RandomForestClassifier\n",
    "print('Random Forest:')\n",
    "rf_clf = RandomForestClassifier(n_estimators=300,\n",
    "                                random_state=666, # random attributes subset\n",
    "                                oob_score=True,\n",
    "                                # n_jobs=-1\n",
    "                               )\n",
    "rf_clf.fit(X_train,y_train)\n",
    "pred = rf_clf.predict(X_test)\n",
    "print(accuracy_score(pred, y_test))\n",
    "avg_expected_loss, avg_bias, avg_var = bias_variance_decomp(rf_clf, X_train, y_train, X_test, y_test, loss='0-1_loss',random_seed=123,num_rounds=10)\n",
    "print(f'Average Expected Loss: {round(avg_expected_loss, 4)}')\n",
    "print(f'Average Bias: {round(avg_bias, 4)}')\n",
    "print(f'Average Variance: {round(avg_var, 4)}')\n",
    "from sklearn.ensemble import BaggingClassifier\n",
    "print('Bagging')\n",
    "bagging_clf = BaggingClassifier(DecisionTreeClassifier(),\n",
    "                                n_estimators=300,\n",
    "                                # max_samples=300,\n",
    "                                bootstrap=True, # using bootstrap sampling method\n",
    "                                oob_score=True, # use oob data for scoring\n",
    "                                # n_jobs=-1 # use paralell computing\n",
    "                               )\n",
    "bagging_clf.fit(X_train,y_train)\n",
    "pred = bagging_clf.predict(X_test)\n",
    "print(accuracy_score(pred, y_test))\n",
    "avg_expected_loss, avg_bias, avg_var = bias_variance_decomp(bagging_clf, X_train, y_train, X_test, y_test, loss='0-1_loss',random_seed=123,num_rounds=10)\n",
    "print(f'Average Expected Loss: {round(avg_expected_loss, 4)}')\n",
    "print(f'Average Bias: {round(avg_bias, 4)}')\n",
    "print(f'Average Variance: {round(avg_var, 4)}')"
   ]
  },
  {
   "cell_type": "markdown",
   "metadata": {},
   "source": [
    "### Other ensemble learning\n",
    "For classification, we have many models to choose . Please don't just pick a model to train and say it's good enough. We need to select models based on some metrics, such as choosing models with low bias and low variance.\n",
    "\n",
    "In this part, you are required  to use `AdaBoost` and `Gradient boosting`.Compare their performances with decision tree and random forest, and finally select the best model  and the optimal  parameters for iris classification.\n"
   ]
  },
  {
   "cell_type": "code",
   "execution_count": 41,
   "metadata": {},
   "outputs": [
    {
     "name": "stdout",
     "output_type": "stream",
     "text": [
      "0.9333333333333333\n",
      "Average Expected Loss: 0.0467\n",
      "Average Bias: 0.0333\n",
      "Average Variance: 0.0133\n"
     ]
    }
   ],
   "source": [
    "from sklearn.ensemble import AdaBoostClassifier\n",
    "clf = AdaBoostClassifier(n_estimators=100)\n",
    "clf.fit(X_train, y_train)\n",
    "y_pred = clf.predict(X_test)\n",
    "print(accuracy_score(y_test, y_pred))\n",
    "avg_expected_loss, avg_bias, avg_var = bias_variance_decomp(clf, X_train, y_train, X_test, y_test, loss='0-1_loss',random_seed=123,num_rounds=10)\n",
    "\n",
    "print(f'Average Expected Loss: {round(avg_expected_loss, 4)}')\n",
    "print(f'Average Bias: {round(avg_bias, 4)}')\n",
    "print(f'Average Variance: {round(avg_var, 4)}')"
   ]
  },
  {
   "cell_type": "code",
   "execution_count": 42,
   "metadata": {},
   "outputs": [
    {
     "name": "stdout",
     "output_type": "stream",
     "text": [
      "0.9333333333333333\n",
      "Average Expected Loss: 0.0467\n",
      "Average Bias: 0.0333\n",
      "Average Variance: 0.0133\n"
     ]
    }
   ],
   "source": [
    "from sklearn.ensemble  import GradientBoostingClassifier\n",
    "\n",
    "clf =  GradientBoostingClassifier(n_estimators=100)\n",
    "clf.fit(X_train, y_train)\n",
    "y_pred = clf.predict(X_test)\n",
    "print(accuracy_score(y_test, y_pred))\n",
    "avg_expected_loss, avg_bias, avg_var = bias_variance_decomp(clf, X_train, y_train, X_test, y_test, loss='0-1_loss',random_seed=123,num_rounds=10)\n",
    "\n",
    "print(f'Average Expected Loss: {round(avg_expected_loss, 4)}')\n",
    "print(f'Average Bias: {round(avg_bias, 4)}')\n",
    "print(f'Average Variance: {round(avg_var, 4)}')"
   ]
  },
  {
   "cell_type": "markdown",
   "metadata": {},
   "source": [
    "Comparing these models, Random Forest has better performance."
   ]
  },
  {
   "cell_type": "markdown",
   "metadata": {},
   "source": [
    "### Questions:\n",
    "(1) Can decision trees and random forests be used for unsupervised clustering or data dimension reduction? Why?\n",
    "\n",
    "Decision trees and random forests can't used for unsupervised clustering since it need the true label to learn how to classify the data. Dicision trees can be used for data dimension reduction. The dimension is reducing when making decisions.\n",
    "\n",
    "(2) What are the strengths of the decision tree/random forest methods; when do they perform well?\n",
    "\n",
    "The decision tree is fast to excute, and the random forest is good at preventing overfitting.\n",
    "\n",
    "(3) What are the weaknesses of the decision tree/random forest methods; when do they perform poorly?\n",
    "\n",
    "Decision tree is easy to overfit, and the random forest is time-consuming.\n",
    "\n",
    "(4) What makes the decision tree/random forest a good candidate for the classification/regression problem, if you have enough knowledge about the data?\n",
    "\n",
    "When there is little dependency among the features, and the data is of high dimension, the decision tree/random forest is a good candidate for the problem."
   ]
  }
 ],
 "metadata": {
  "kernelspec": {
   "display_name": "Python 3.9.13 ('sci39')",
   "language": "python",
   "name": "python3"
  },
  "language_info": {
   "codemirror_mode": {
    "name": "ipython",
    "version": 3
   },
   "file_extension": ".py",
   "mimetype": "text/x-python",
   "name": "python",
   "nbconvert_exporter": "python",
   "pygments_lexer": "ipython3",
   "version": "3.9.13"
  },
  "orig_nbformat": 4,
  "vscode": {
   "interpreter": {
    "hash": "d41f7ce290d37fe5b4ab4e5bf6b63bd16e05157bfb17b66f4f27316420edd9a0"
   }
  }
 },
 "nbformat": 4,
 "nbformat_minor": 2
}
