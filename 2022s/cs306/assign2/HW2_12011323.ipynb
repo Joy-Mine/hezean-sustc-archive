{
 "cells": [
  {
   "cell_type": "markdown",
   "metadata": {},
   "source": [
    "# KDD Assignment 2\n",
    "![CS306](https://img.shields.io/badge/CS306-Data%20Mining-orange) &nbsp;\n",
    "![2022s](https://img.shields.io/badge/semester-2022%20spring-blue)\n",
    "\n",
    "Author: 何泽安 (He Zean) &nbsp;&nbsp; SID: 12011323"
   ]
  },
  {
   "cell_type": "markdown",
   "metadata": {},
   "source": [
    "## Part 1. Data Collection\n",
    "\n",
    "We first analyze the network packages, and find the useful API url. We only need the chinaDayList and chinaDayAddList, so we modify the url as shows in the below code.\n",
    "\n",
    "<img src=\"https://i.imgur.com/JcNXIGi.png\" alt=\"api capture\" style=\"zoom:25%;\" />"
   ]
  },
  {
   "cell_type": "code",
   "execution_count": null,
   "metadata": {},
   "outputs": [],
   "source": [
    "from urllib.request import urlopen\n",
    "import json\n",
    "\n",
    "api = 'https://api.inews.qq.com/newsqa/v1/query/inner/publish/modules/list?modules=chinaDayList,chinaDayAddList'\n",
    "raw_data = urlopen(api).read().decode('utf-8')\n",
    "raw_data = json.loads(raw_data)['data']\n",
    "\n",
    "raw_data"
   ]
  },
  {
   "cell_type": "markdown",
   "metadata": {},
   "source": [
    "## Part 2. Data Cleaning\n",
    "\n",
    "We then compare the data with the data displayed in the web page, and analyze the labels' correspondance.\n",
    "\n",
    "```json\n",
    "{\n",
    "    \"chinaDayAddList\": [\n",
    "        {\n",
    "            \"y\": \"2022\",\n",
    "            \"confirm\": 5451,                 // 新增确诊\n",
    "            \"suspect\": 0,                    // 新增疑似\n",
    "            \"date\": \"04.15\"\n",
    "        }\n",
    "    ],\n",
    "    \"chinaDayList\": [\n",
    "        {\n",
    "            \"y\": \"2022\",\n",
    "            \"nowConfirm\": 259560,            // 现有确诊\n",
    "            \"dead\": 14561,                   // 累计死亡\n",
    "            \"heal\": 227416,                  // 累计治愈\n",
    "            \"confirm\": 519822,               // 累计确诊\n",
    "            \"date\": \"04.15\"\n",
    "        }\n",
    "    ]\n",
    "}\n",
    "```"
   ]
  },
  {
   "cell_type": "code",
   "execution_count": null,
   "metadata": {},
   "outputs": [],
   "source": [
    "import pandas as pd\n",
    "\n",
    "day_add = pd.DataFrame.from_records(raw_data['chinaDayAddList'])\n",
    "day_add['date'] = day_add['y'] + '-' + day_add['date'].str.replace('\\\\.', '-', regex=True)\n",
    "day_add['date'] = pd.to_datetime(day_add['date'])\n",
    "\n",
    "day_add.drop(day_add.columns.difference(['date', 'confirm', 'suspect']), axis=1, inplace=True)  # keep only info we need\n",
    "\n",
    "day_add.sort_values(by='date', inplace=True)\n",
    "day_add = day_add.tail(30)  # we only need the last 30 days\n",
    "day_add.fillna(day_add.mean(numeric_only=True), inplace=True)  # fill missing values with mean\n",
    "day_add['day_bias'] = (day_add['date'] - day_add['date'].min()) / pd.Timedelta('1 days') + 1  # the day from the first day in the seq (30 days)\n",
    "\n",
    "day_add.tail(5)  # preview"
   ]
  },
  {
   "cell_type": "code",
   "execution_count": null,
   "metadata": {},
   "outputs": [],
   "source": [
    "day_info = pd.DataFrame.from_records(raw_data['chinaDayList'])\n",
    "day_info['date'] = day_info['y'] + '-' + day_info['date'].str.replace('\\\\.', '-', regex=True)\n",
    "day_info['date'] = pd.to_datetime(day_info['date'])\n",
    "\n",
    "day_info.drop(day_info.columns.difference(['date', 'dead', 'heal', 'confirm', 'nowConfirm']), axis=1, inplace=True)  # keep only info we need\n",
    "day_info.sort_values(by='date', inplace=True)\n",
    "day_info = day_info.tail(30)  # we only need the last 30 days\n",
    "\n",
    "day_info.fillna(day_info.mean(numeric_only=True), inplace=True)  # fill missing values with mean\n",
    "day_info['day_bias'] = (day_info['date'] - day_info['date'].min()) / pd.Timedelta('1 days') + 1  # the day from the first day in the seq (30 days)\n",
    "\n",
    "day_info.tail(5)  # preview"
   ]
  },
  {
   "cell_type": "markdown",
   "metadata": {},
   "source": [
    "## Part 3. Linear Regression Models"
   ]
  },
  {
   "cell_type": "code",
   "execution_count": null,
   "metadata": {},
   "outputs": [],
   "source": [
    "from sklearn.linear_model import LinearRegression\n",
    "from sklearn.model_selection import train_test_split\n",
    "from sklearn.metrics import mean_squared_error\n",
    "import numpy as np\n",
    "\n",
    "\n",
    "def modeling(name, x, y):\n",
    "    print(name)\n",
    "    # training\n",
    "    model = LinearRegression()\n",
    "    X_train, X_test, y_train, y_test = train_test_split(\n",
    "        x.values.reshape(-1, 1), y, test_size=0.2, shuffle=False)  # time series\n",
    "    model.fit(X_train, y_train)\n",
    "    print(f'Y = {model.coef_[0]} * X + {model.intercept_}')\n",
    "\n",
    "    # validating\n",
    "    rmse = np.sqrt(mean_squared_error(y_test, model.predict(X_test)))\n",
    "    print(f'RMSE = {rmse}')\n",
    "\n",
    "    # predicting\n",
    "    pred_day_bias = [[x.max() + 1]]  # 2D array for prediction\n",
    "    print(f'Pred = {model.predict(pred_day_bias)[0]:.3f}')"
   ]
  },
  {
   "cell_type": "code",
   "execution_count": null,
   "metadata": {},
   "outputs": [],
   "source": [
    "modeling('Now Confirm (现有确诊)', day_info['day_bias'], day_info['nowConfirm'])"
   ]
  },
  {
   "cell_type": "code",
   "execution_count": null,
   "metadata": {},
   "outputs": [],
   "source": [
    "modeling('New Confirm (新增确诊)', day_add['day_bias'], day_add['confirm'])"
   ]
  },
  {
   "cell_type": "code",
   "execution_count": null,
   "metadata": {},
   "outputs": [],
   "source": [
    "modeling('Now Suspect (新增疑似)', day_add['day_bias'], day_add['suspect'])"
   ]
  },
  {
   "cell_type": "code",
   "execution_count": null,
   "metadata": {},
   "outputs": [],
   "source": [
    "modeling('Accumulated Confirm (累计确诊)', day_info['day_bias'], day_info['confirm'])"
   ]
  },
  {
   "cell_type": "code",
   "execution_count": null,
   "metadata": {},
   "outputs": [],
   "source": [
    "modeling('Accumulated Heal (累计治愈)', day_info['day_bias'], day_info['heal'])"
   ]
  },
  {
   "cell_type": "code",
   "execution_count": null,
   "metadata": {},
   "outputs": [],
   "source": [
    "modeling('Accumulated Dead (累计死亡)', day_info['day_bias'], day_info['dead'])"
   ]
  }
 ],
 "metadata": {
  "interpreter": {
   "hash": "4db10295a3c57a5ad8255c01fd3ebaa9f6abf6ad4aa73f33b05d7aca9721ddfb"
  },
  "kernelspec": {
   "display_name": "Python 3.8.13 ('venv')",
   "language": "python",
   "name": "python3"
  },
  "language_info": {
   "codemirror_mode": {
    "name": "ipython",
    "version": 3
   },
   "file_extension": ".py",
   "mimetype": "text/x-python",
   "name": "python",
   "nbconvert_exporter": "python",
   "pygments_lexer": "ipython3",
   "version": "3.8.13"
  },
  "orig_nbformat": 4
 },
 "nbformat": 4,
 "nbformat_minor": 2
}
